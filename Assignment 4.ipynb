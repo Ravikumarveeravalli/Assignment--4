{
 "cells": [
  {
   "cell_type": "code",
   "execution_count": 1,
   "id": "53febfc9",
   "metadata": {},
   "outputs": [
    {
     "data": {
      "text/plain": [
       "[1, 2, 3, 4, 7, 8, 9]"
      ]
     },
     "execution_count": 1,
     "metadata": {},
     "output_type": "execute_result"
    }
   ],
   "source": [
    "# 1. Given a list of numbers, write a python program that returns a new list which Has all \n",
    "# duplicate elements removed. And is sorted in an increasing order.\n",
    "# Ex:\n",
    "# Input:\n",
    "#[2,1,3,4,2,3,3,2,7,9,8,7]\n",
    "# Output:\n",
    "#[1,2,3,4,7,8,9]\n",
    "\n",
    "list1=[2,1,3,4,2,3,3,2,7,9,8,7]\n",
    "s=set(list1)\n",
    "s\n",
    "list2=list(s)\n",
    "list2.sort()\n",
    "list2\n"
   ]
  },
  {
   "cell_type": "code",
   "execution_count": 2,
   "id": "10772dfc",
   "metadata": {},
   "outputs": [
    {
     "data": {
      "text/plain": [
       "{1: 'Ravi', 2: 'python', 3: 'java', 4: 'c++'}"
      ]
     },
     "execution_count": 2,
     "metadata": {},
     "output_type": "execute_result"
    }
   ],
   "source": [
    "# 2. Write a Python program where you will iterate over both keys and values in dictionaries\n",
    "\n",
    "x={1:\"Ravi\",2:\"python\",3:\"java\",4:\"c++\"}\n",
    "x.items()\n",
    "x"
   ]
  },
  {
   "cell_type": "code",
   "execution_count": 4,
   "id": "189ea461",
   "metadata": {},
   "outputs": [
    {
     "name": "stdout",
     "output_type": "stream",
     "text": [
      "['Gephi', 'Tarun', 'manoj']\n"
     ]
    }
   ],
   "source": [
    "# 3. Write a Python program that takes a dictionary of student names and returns a list of \n",
    "# student names in alphabetical order\n",
    "#Ex:\n",
    "# Input: \n",
    "# {“Student 1”: \"Tarun\", \"Student 2”: \"Manoj\", \"Student 3”: \"Gephi”}\n",
    "# Output:\n",
    "# [“Gephi”,” \n",
    "# Manoj”,” Tarun”]\n",
    "\n",
    "x={\"student 1\":\"Tarun\", \"student 2\":\"manoj\",\"srudent 3\":\"Gephi\"}\n",
    "l=[]\n",
    "for keys ,values in x.items():\n",
    "    l.append(values)\n",
    "    l.sort()\n",
    "print(l)"
   ]
  },
  {
   "cell_type": "code",
   "execution_count": 6,
   "id": "41c84fe8",
   "metadata": {},
   "outputs": [
    {
     "name": "stdout",
     "output_type": "stream",
     "text": [
      "['false', 'true', 'false', 'false', 'true']\n"
     ]
    }
   ],
   "source": [
    "# 4. Write a Python which returns a new list of Booleans, from a given number. Iterating \n",
    "# through the number one digit at a time, append True if the digit is 1 and False if it is 0.\n",
    "# Ex:\n",
    "# Input: “01001”\n",
    "# Output: [“False”, “True”, “False”,” False”,” True”]\n",
    "\n",
    "x=\"01001\"\n",
    "l=[]\n",
    "for i in x:\n",
    "    if i==\"1\":\n",
    "        l.append(\"true\")\n",
    "    elif i==\"0\":\n",
    "        l.append(\"false\")\n",
    "print(l)"
   ]
  },
  {
   "cell_type": "code",
   "execution_count": 17,
   "id": "af1651a8",
   "metadata": {},
   "outputs": [
    {
     "name": "stdout",
     "output_type": "stream",
     "text": [
      "Ackes\n"
     ]
    }
   ],
   "source": [
    "#5. Given a dictionary containing the names and ages of a group of people, return the name of the oldest person\n",
    "#Ex:\n",
    "#Input: {\"Tmma\": 41, \"Ackes\": 45, \"myna\": 15, \"Benthon\": 29}\n",
    "#Output: “Ackes”\n",
    "\n",
    "x={\"Tmma\": 41, \"Ackes\": 45, \"myna\": 15, \"Benthon\": 29}\n",
    "y=max(x.values())\n",
    "for i in x:\n",
    "    if y==x[i]:\n",
    "        print(i)"
   ]
  },
  {
   "cell_type": "code",
   "execution_count": 2,
   "id": "193202a2",
   "metadata": {},
   "outputs": [
    {
     "name": "stdout",
     "output_type": "stream",
     "text": [
      "Enter the string : my name ravi\n",
      "{'y': 1, 'e': 1, 'n': 1, 'a': 2, ' ': 2, 'i': 1, 'm': 2, 'v': 1, 'r': 1}\n"
     ]
    }
   ],
   "source": [
    "#6.write a Python program where you will return a dictionary where the keys will be the character and the values will be\n",
    "#  the occurrence of the character in the string, and it should for any string inputs (dynamic)\n",
    "#Ex:\n",
    "#Input: “my name is ame”\n",
    "#Output: {“m”:3,” y”:1,” n”:1,” a”:2,” e”:2,” i”:1,” s”:1}\n",
    "\n",
    "x=input(\"Enter the string : \")\n",
    "y=set(x)\n",
    "z=list(y)\n",
    "dict1=dict()\n",
    "for i in z:\n",
    "    dict1.update({i:x.count(i)})\n",
    "print(dict1)"
   ]
  },
  {
   "cell_type": "code",
   "execution_count": 3,
   "id": "74749ef5",
   "metadata": {},
   "outputs": [
    {
     "name": "stdout",
     "output_type": "stream",
     "text": [
      "Enter a choice (rock, paper, scissors): rock\n",
      "Enter a choice (rock, paper, scissors): papper\n",
      "\n",
      "You chose rock, computer chose papper.\n",
      "\n",
      "Paper covers rock! You lose.\n"
     ]
    }
   ],
   "source": [
    "#7. Write a Python program to create a Rock, Paper, Scissor game, use two inputs for two \n",
    "#players:\n",
    "#Conditions: -Rock beats Scissors, Scissors beats Paper, Paper beats Rock\n",
    "\n",
    "\n",
    "person1= input(\"Enter a choice (rock, paper, scissors): \")\n",
    "options= [\"rock\", \"paper\", \"scissors\"]\n",
    "person2= input(\"Enter a choice (rock, paper, scissors): \")\n",
    "print(f\"\\nYou chose {person1}, computer chose {person2}.\\n\")\n",
    "if person1 == person2:\n",
    "    print(f\"Both players selected {person1}. It's a tie!\")\n",
    "elif person1 == \"rock\":\n",
    "    if person2 == \"scissors\":\n",
    "        print(\"Rock smashes scissors! You win!\")\n",
    "    else:\n",
    "        print(\"Paper covers rock! You lose.\")\n",
    "elif person1 == \"paper\":\n",
    "    if person2 == \"rock\":\n",
    "        print(\"Paper covers rock! You win!\")\n",
    "    else:\n",
    "        print(\"Scissors cuts paper! You lose.\")\n",
    "elif person1 == \"scissors\":\n",
    "    if person2 == \"paper\":\n",
    "        print(\"Scissors cuts paper! You win!\")\n",
    "    else:\n",
    "        print(\"Rock smashes scissors! You lose.\")\n",
    "\n"
   ]
  },
  {
   "cell_type": "code",
   "execution_count": 4,
   "id": "4c6694f7",
   "metadata": {},
   "outputs": [
    {
     "name": "stdout",
     "output_type": "stream",
     "text": [
      "['water bottles', 'chips']\n"
     ]
    }
   ],
   "source": [
    "#8. Create a program that returns a list of items that you can afford in the store with the money you have in your wallet. \n",
    "#   Create a dictionary with items as key and price as values\n",
    "#Ex:\n",
    "#Input: \n",
    "#{“water bottles”: “20”,” chips”:10,” Iphone”;49000“,” towel”:90,” pens”:58,” cake”;400}\n",
    "#Your wallet balance: -50\n",
    "#Output: [“water bottles”, “chips”]\n",
    "\n",
    "\n",
    "x={\"water bottles\": 20,\"chips\":10,\"Iphone\":49000,\"towel\":90,\"pens\":58,\"cake\":400}\n",
    "l=[]\n",
    "for keys,values in x.items():\n",
    "    if values<50:\n",
    "        l.append(keys)\n",
    "print(l)"
   ]
  },
  {
   "cell_type": "code",
   "execution_count": 5,
   "id": "4c018776",
   "metadata": {},
   "outputs": [
    {
     "data": {
      "text/plain": [
       "{1, 2, 3, 4, 5, 6}"
      ]
     },
     "execution_count": 5,
     "metadata": {},
     "output_type": "execute_result"
    }
   ],
   "source": [
    "#9. Write a Python program to create a union of sets\n",
    "\n",
    "\n",
    "set1={1,2,3}\n",
    "set2={4,5,6}\n",
    "set3=set1.union(set2)\n",
    "set3"
   ]
  },
  {
   "cell_type": "code",
   "execution_count": 7,
   "id": "bdbb2ac7",
   "metadata": {},
   "outputs": [
    {
     "name": "stdout",
     "output_type": "stream",
     "text": [
      "2\n",
      "value is present\n"
     ]
    }
   ],
   "source": [
    "#10. Write a Python program to check if a given value is present in a set or not (Dynamic)\n",
    "\n",
    "\n",
    "set={1,2,3,4}\n",
    "x=int(input())\n",
    "for i in set:\n",
    "    if i==x:\n",
    "        print(\"value is present\")"
   ]
  },
  {
   "cell_type": "code",
   "execution_count": 8,
   "id": "a02360ec",
   "metadata": {},
   "outputs": [
    {
     "name": "stdout",
     "output_type": "stream",
     "text": [
      "{'cat': 3, 'dog': 5, 'mouse': 3}\n"
     ]
    }
   ],
   "source": [
    "#11. Write a Python program to find the occurrences of 3 most common words in a given text. And make it as a dictionaries\n",
    "##Ex:\n",
    "#Input:\n",
    "#” Cat dog dog cat horse dog dog mouse horse dog mouse tiger lion tiger cat mouse snail”\n",
    "#Output: (“dog”:5,”cat”:3,” mouse”;3)\n",
    "\n",
    "\n",
    "x=\"cat dog dog cat horse dog dog mouse horse dog mouse tiger lion tiger cat mouse snail\"\n",
    "y=x.split()\n",
    "y\n",
    "l=[]\n",
    "dict1={}\n",
    "for i in y:\n",
    "    if y.count(i)>2:\n",
    "        if i in dict1:\n",
    "            dict1[i]+=1\n",
    "        else:\n",
    "            dict1[i]=1\n",
    "print(dict1)"
   ]
  },
  {
   "cell_type": "code",
   "execution_count": 9,
   "id": "5314d59a",
   "metadata": {},
   "outputs": [
    {
     "name": "stdout",
     "output_type": "stream",
     "text": [
      "{'english': 56, 'hindi': 98, 'telugu': 75, 'social': 66}\n"
     ]
    }
   ],
   "source": [
    "#12. Write a Python program that accepts name of given subject and mark, and make subjects as keys in dictionaries and \n",
    "#    marks as values and print the final dictionary with subjects and marks\n",
    "\n",
    "\n",
    "list1=[\"english\",\"hindi\",\"telugu\",\"social\"]\n",
    "list2=[56,98,75,66]\n",
    "dict1=dict()\n",
    "for i in range(len(list1)):\n",
    "    dict1.update({list1[i]:list2[i]})\n",
    "print(dict1)\n"
   ]
  },
  {
   "cell_type": "code",
   "execution_count": null,
   "id": "7422766a",
   "metadata": {},
   "outputs": [],
   "source": []
  }
 ],
 "metadata": {
  "kernelspec": {
   "display_name": "Python 3 (ipykernel)",
   "language": "python",
   "name": "python3"
  },
  "language_info": {
   "codemirror_mode": {
    "name": "ipython",
    "version": 3
   },
   "file_extension": ".py",
   "mimetype": "text/x-python",
   "name": "python",
   "nbconvert_exporter": "python",
   "pygments_lexer": "ipython3",
   "version": "3.9.13"
  }
 },
 "nbformat": 4,
 "nbformat_minor": 5
}
